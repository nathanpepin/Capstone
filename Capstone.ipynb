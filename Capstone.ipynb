{
 "cells": [
  {
   "cell_type": "markdown",
   "metadata": {
    "pycharm": {
     "name": "#%% md\n"
    }
   },
   "source": [
    "# Text Learner++\n",
    "### Written By: Nathan Pepin\n",
    "### Student ID: 001195100\n",
    "### Capstone Project Implementation\n",
    "\n",
    "## Intro\n",
    "\n",
    "This is a technical demo for a language learning tool called Text Learner++. It uses machine learning algorithms trained on the English language to extract the most important words from a text.\n",
    "The text can be of practically any size, though must be in a _txt_ format.\n",
    "\n",
    "The application is targeted at people who are learning English and want a tool to assist them in identifying vocabulary to learn before reading a text.\n",
    "Language learners are usually hampered in their efforts to read a book by the overhead of needing to cross-reference.\n",
    "The more time needed to look up the meaning of a word, the less comprehension of the text as a whole.\n",
    "\n",
    "The solution as offered by this application is to reduce that overhead by giving users the top words to learn before reading a text.\n",
    "\n",
    "## How to use\n",
    "\n",
    "Follow the application sequentially, running and code and answering prompts as it appears.\n",
    "Each section will contain some details.\n",
    "\n",
    "## Requirements\n",
    "\n",
    "The project requires the following to function:\n",
    "\n",
    "- Python 3.9.5\n",
    "- Jupyter notebook installation\n",
    "- Web browser\n",
    "\n",
    "## FAQ\n",
    "\n",
    "Q: What if I get an error?\n",
    "\n",
    "A: Most errors are caused by running the application out of order. You can determine what section should be run next by looking at the output.\n",
    "\n",
    "---\n",
    "\n",
    "Q: It seems to take a while when running some sections, is something wrong?\n",
    "\n",
    "A: The program's processing time scales with the input text.\n",
    "This happens because the program is separating the entire text into words and applying manipulations for each word.\n",
    "Some ancient computers may struggle.\n",
    "\n",
    "---\n",
    "\n",
    "Q: Why is there code?\n",
    "\n",
    "A: This is a technical demo application and will contain code to give reviewers access into the business logic.\n",
    "To use the application you do not need to edit or modify any of the code.\n",
    "\n",
    "---\n",
    "\n",
    "Q: I changed the code on accident. What do I do?\n",
    "\n",
    "A: If you accidentally change the code then reload the notebook or do a CTRL+Z to undo.\n",
    "So long as you don't save the changes there is no harm done.\n",
    "\n",
    "---\n",
    "\n",
    "Q: I spotted a bug, what should I do?\n",
    "\n",
    "A: Please report all bugs to npepin1@wgu.edu\n",
    "\n",
    "---\n",
    "\n",
    "Q: Why does a language learning tool for English have instructions in English?\n",
    "\n",
    "A: This is a technical demo application and will contain code to give reviewers access into the business logic.\n",
    "When in production, localizations will be provided."
   ]
  },
  {
   "cell_type": "markdown",
   "metadata": {},
   "source": [
    "# Get Input\n",
    "\n",
    "The code below will ask you to enter a file path.\n",
    "The path can be relative to the notebook or absolute, it just needs to exist.\n",
    "If you receive a \"File Not Found\" exception, it likely means that you entered your path incorrectly.\n",
    "\n",
    "The application will upload the text to a database.\n",
    "Multiple texts can be added into the database, though only one can be analyzed at a time.\n",
    "\n",
    "## Accepted inputs\n",
    "\n",
    "The application only accepts *txt* files.\n",
    "The *SampleData* directory in the project contain some public domain texts from https://www.gutenberg.org/ that can be used for evaluation purposes."
   ]
  },
  {
   "cell_type": "code",
   "execution_count": 6,
   "metadata": {
    "pycharm": {
     "name": "#%%\n"
    }
   },
   "outputs": [],
   "source": [
    "# Open DB connection\n",
    "import sqlite3\n",
    "connection = sqlite3.connect('database.db')"
   ]
  },
  {
   "cell_type": "code",
   "execution_count": 7,
   "outputs": [
    {
     "ename": "IndexError",
     "evalue": "list index out of range",
     "output_type": "error",
     "traceback": [
      "\u001B[1;31m---------------------------------------------------------------------------\u001B[0m",
      "\u001B[1;31mIndexError\u001B[0m                                Traceback (most recent call last)",
      "\u001B[1;32m~\\AppData\\Local\\Temp/ipykernel_8784/91354720.py\u001B[0m in \u001B[0;36m<module>\u001B[1;34m\u001B[0m\n\u001B[0;32m      3\u001B[0m \u001B[1;33m\u001B[0m\u001B[0m\n\u001B[0;32m      4\u001B[0m \u001B[1;31m# Validates input is correct format\u001B[0m\u001B[1;33m\u001B[0m\u001B[1;33m\u001B[0m\u001B[0m\n\u001B[1;32m----> 5\u001B[1;33m \u001B[1;32mif\u001B[0m \u001B[0mfilePath\u001B[0m\u001B[1;33m.\u001B[0m\u001B[0msplit\u001B[0m\u001B[1;33m(\u001B[0m\u001B[1;34m'.'\u001B[0m\u001B[1;33m)\u001B[0m\u001B[1;33m[\u001B[0m\u001B[1;36m1\u001B[0m\u001B[1;33m]\u001B[0m \u001B[1;33m!=\u001B[0m \u001B[1;34m'txt'\u001B[0m\u001B[1;33m:\u001B[0m\u001B[1;33m\u001B[0m\u001B[1;33m\u001B[0m\u001B[0m\n\u001B[0m\u001B[0;32m      6\u001B[0m     \u001B[1;32mraise\u001B[0m  \u001B[0mException\u001B[0m\u001B[1;33m(\u001B[0m\u001B[1;34m\"File must be .txt\"\u001B[0m\u001B[1;33m)\u001B[0m\u001B[1;33m\u001B[0m\u001B[1;33m\u001B[0m\u001B[0m\n\u001B[0;32m      7\u001B[0m \u001B[1;33m\u001B[0m\u001B[0m\n",
      "\u001B[1;31mIndexError\u001B[0m: list index out of range"
     ]
    }
   ],
   "source": [
    "# Gets input\n",
    "filePath = input()\n",
    "\n",
    "# Validates input is correct format\n",
    "if filePath.split('.')[1] != 'txt':\n",
    "    raise  Exception(\"File must be .txt\")\n",
    "\n",
    "# Reads file\n",
    "file = open(filePath,mode='r', encoding='utf-8')\n",
    "file_text = file.read()\n",
    "file.close()\n",
    "\n",
    "# Creates the table if it doesn't exist\n",
    "connection.execute('''\n",
    "CREATE TABLE IF NOT EXISTS INPUT_TEXTS\n",
    "(ID INTEGER PRIMARY KEY NOT NULL,\n",
    " FILE_NAME TEXT NOT NULL,\n",
    " FILE_TEXT TEXT NOT NULL);''')\n",
    "\n",
    "# Inserts the text into the database\n",
    "connection.execute('''\n",
    "INSERT INTO INPUT_TEXTS (file_name, file_text) VALUES(?,?)\n",
    "''', (filePath, file_text))\n",
    "connection.commit()\n",
    "\n",
    "print(f'{len(file_text)} characters from {filePath} inserted into the learning database.')"
   ],
   "metadata": {
    "collapsed": false,
    "pycharm": {
     "name": "#%%\n"
    }
   }
  },
  {
   "cell_type": "markdown",
   "metadata": {
    "pycharm": {
     "name": "#%% md\n"
    }
   },
   "source": [
    "# Selections\n",
    "\n",
    "Run the code below to show what is available to select from in the database.\n",
    "The selections will appear by the following order.\n",
    "\n",
    ">{key} - {text file name}\n",
    "\n",
    "The options may appear like:\n",
    "\n",
    "> 3 - Moby Dick.txt\n",
    ">\n",
    "> 7 - Alice In Wonderland.txt\n",
    ">\n",
    "> 44 - Frankenstein.txt\n",
    "\n",
    "The key for Alice In Wonderland would be 7."
   ]
  },
  {
   "cell_type": "code",
   "execution_count": 8,
   "metadata": {
    "pycharm": {
     "name": "#%%\n"
    }
   },
   "outputs": [
    {
     "name": "stdout",
     "output_type": "stream",
     "text": [
      "\t1 - MB.txt\n"
     ]
    }
   ],
   "source": [
    "query = connection.execute('SELECT id, file_name FROM INPUT_TEXTS')\n",
    "queried_data = []\n",
    "for value in query:\n",
    "    queried_data.append((value[0], value[1]))\n",
    "    print(f'\\t{value[0]} - {value[1]}')"
   ]
  },
  {
   "cell_type": "markdown",
   "metadata": {
    "pycharm": {
     "name": "#%% md\n"
    }
   },
   "source": [
    "# Select a text\n",
    "\n",
    "Using the key from above, select which text you would like to analyze."
   ]
  },
  {
   "cell_type": "code",
   "execution_count": 9,
   "metadata": {
    "pycharm": {
     "name": "#%%\n"
    }
   },
   "outputs": [
    {
     "name": "stdout",
     "output_type": "stream",
     "text": [
      "Selected an index 1\n"
     ]
    }
   ],
   "source": [
    "# Init variables\n",
    "input_text = 'Enter the text index (number) you wish to select (-1 to exit)'\n",
    "textIndex = -1\n",
    "continueLoop = True\n",
    "\n",
    "# This loop will cycle until a valid input is chosen.\n",
    "while continueLoop:\n",
    "    textIndex = input(input_text)\n",
    "\n",
    "    # Check for exit\n",
    "    if textIndex == '-1':\n",
    "        continueLoop = False\n",
    "        break\n",
    "\n",
    "    # Check if input is number\n",
    "    if not textIndex.isnumeric():\n",
    "        input_text = 'Error: Input text was not a number\\n' \\\n",
    "                     'Enter the text index (number) you wish to select (-1 to exit)'\n",
    "        continue\n",
    "\n",
    "    # Check if input exists in data DB\n",
    "    for it in queried_data:\n",
    "        if it[0] == int(textIndex):\n",
    "            textIndex = int(textIndex)\n",
    "            continueLoop = False\n",
    "        else:\n",
    "            input_text = 'Error: Input text value was not an index\\n' \\\n",
    "                     'Enter the text index (number) you wish to select (-1 to exit)'\n",
    "\n",
    "print(f'Selected an index {textIndex}')"
   ]
  },
  {
   "cell_type": "markdown",
   "metadata": {},
   "source": [
    "# Top words\n",
    "\n",
    "Running the code below will analyze the text selected above and display the top 50 words in the text.\n",
    "These are not simply the words that appear most in the text, but are words that appear the most and are likely to have the most meaning.\n",
    "\n",
    "Words are also condensed into their overall meaning. For instance, \"gave\" and \"give\" are the same word but in a different tense.\n",
    "The application will convert all instances of \"gave\" to present tense \"give\" and treat them as a single instance.\n",
    "\n",
    "## Install dependencies\n",
    "Run the code below to download the langauge models. This may take some time."
   ]
  },
  {
   "cell_type": "code",
   "execution_count": 11,
   "outputs": [
    {
     "name": "stderr",
     "output_type": "stream",
     "text": [
      "[nltk_data] Downloading package stopwords to\n",
      "[nltk_data]     C:\\Users\\natep\\AppData\\Roaming\\nltk_data...\n",
      "[nltk_data]   Package stopwords is already up-to-date!\n",
      "[nltk_data] Downloading package averaged_perceptron_tagger to\n",
      "[nltk_data]     C:\\Users\\natep\\AppData\\Roaming\\nltk_data...\n",
      "[nltk_data]   Package averaged_perceptron_tagger is already up-to-\n",
      "[nltk_data]       date!\n",
      "[nltk_data] Downloading package wordnet to\n",
      "[nltk_data]     C:\\Users\\natep\\AppData\\Roaming\\nltk_data...\n",
      "[nltk_data]   Package wordnet is already up-to-date!\n"
     ]
    },
    {
     "data": {
      "text/plain": "True"
     },
     "execution_count": 11,
     "metadata": {},
     "output_type": "execute_result"
    }
   ],
   "source": [
    "import nltk\n",
    "nltk.download(\"stopwords\")\n",
    "nltk.download('averaged_perceptron_tagger')\n",
    "nltk.download('wordnet')"
   ],
   "metadata": {
    "collapsed": false,
    "pycharm": {
     "name": "#%%\n"
    }
   }
  },
  {
   "cell_type": "markdown",
   "source": [
    "## Code\n",
    "\n",
    "For those that are competent with Python some values can be adjusted, such as the *bottom_range* and *top_range* variables, which control how many top words are displayed.\n",
    "\n",
    "Note that though adjusting these values may function here, but may cause errors down the line.\n",
    "For instance, if you query for the top 5 words, you will receive an error in a later section that displays the top 10 words.\n",
    "\n",
    "## Note\n",
    "\n",
    "This application may take some time to run, but in most cases will take less than 10 minutes, likely 30-120 seconds."
   ],
   "metadata": {
    "collapsed": false
   }
  },
  {
   "cell_type": "code",
   "execution_count": 12,
   "metadata": {
    "pycharm": {
     "name": "#%%\n"
    }
   },
   "outputs": [
    {
     "data": {
      "text/plain": "[('whale', 1032),\n ('one', 906),\n ('like', 561),\n ('upon', 541),\n ('ship', 539),\n ('man', 481),\n ('sea', 445),\n ('ye', 434),\n ('old', 431),\n ('boat', 429),\n ('time', 429),\n ('would', 419),\n ('though', 335),\n ('thing', 322),\n ('hand', 320),\n ('head', 314),\n ('long', 309),\n ('said', 304),\n ('still', 299),\n ('yet', 299),\n ('must', 292),\n ('great', 291),\n ('way', 287),\n ('two', 284),\n ('seemed', 283),\n ('say', 280),\n ('last', 277),\n ('see', 258),\n ('little', 247),\n ('may', 245),\n ('round', 244),\n ('day', 241),\n ('go', 239),\n ('eye', 238),\n ('three', 234),\n ('men', 232),\n ('water', 232),\n ('thou', 231),\n ('u', 229),\n ('every', 222),\n ('much', 219),\n ('could', 216),\n ('side', 216),\n ('first', 211),\n ('come', 204),\n ('never', 196),\n ('part', 195),\n ('ever', 191),\n ('almost', 188),\n ('might', 183)]"
     },
     "execution_count": 12,
     "metadata": {},
     "output_type": "execute_result"
    }
   ],
   "source": [
    "bottom_range = 0\n",
    "top_range = 50\n",
    "\n",
    "# Query text\n",
    "all_of_it = ''\n",
    "textQuery = connection.execute('''\n",
    "SELECT file_text FROM input_texts WHERE ID = ?;\n",
    "''', (textIndex,))\n",
    "all_of_it = textQuery.fetchone()[0]\n",
    "\n",
    "# Remove markdown\n",
    "removed_markdown = all_of_it.replace('_', \"\")\\\n",
    "    .replace('*', \"\")\\\n",
    "    .replace(\"#\", \"\")\\\n",
    "    .replace(\"=\", \"\")\\\n",
    "    .replace('-', \"\")\n",
    "\n",
    "# Remove punctuations\n",
    "punctuation_tokenizer = nltk.RegexpTokenizer(r\"\\w+\")\n",
    "removed_punctuation = punctuation_tokenizer.tokenize(removed_markdown)\n",
    "\n",
    "# Filter stop words\n",
    "from nltk.corpus import stopwords\n",
    "\n",
    "stop_words = set(stopwords.words(\"english\"))\n",
    "removed_stop_words = []\n",
    "for word in removed_punctuation:\n",
    "    if word.casefold() not in stop_words:\n",
    "        removed_stop_words.append(word)\n",
    "\n",
    "# Remove numbers\n",
    "removed_numbers = []\n",
    "for word in removed_stop_words:\n",
    "    if word.isnumeric() is False:\n",
    "        removed_numbers.append(word)\n",
    "removed_numbers\n",
    "\n",
    "# Remove proper nouns\n",
    "removed_proper_nouns = []\n",
    "parts_of_speach = nltk.pos_tag(removed_numbers)\n",
    "for word, tag in parts_of_speach:\n",
    "    if tag != \"NNP\" and tag != \"NNPS\":\n",
    "        removed_proper_nouns.append(word)\n",
    "removed_proper_nouns\n",
    "\n",
    "# Lemmatizing\n",
    "from nltk.stem import WordNetLemmatizer\n",
    "lemmatizer = WordNetLemmatizer()\n",
    "lemmatized_words = [lemmatizer.lemmatize(word) for word in removed_proper_nouns]\n",
    "\n",
    "# Frequency\n",
    "frequency_list = nltk.FreqDist(w for w in lemmatized_words).most_common(500)\n",
    "top_50_words =  [frequency_list[it] for it in range(bottom_range, top_range)]\n",
    "top_50_words"
   ]
  },
  {
   "cell_type": "markdown",
   "metadata": {
    "pycharm": {
     "name": "#%% md\n"
    }
   },
   "source": [
    "# Word Distribution\n",
    "\n",
    "Running the code in this section will display the frequency count for those words throughout the text.\n",
    "This can be used to identify what words should be prioritized."
   ]
  },
  {
   "cell_type": "code",
   "execution_count": 13,
   "metadata": {
    "pycharm": {
     "name": "#%%\n"
    }
   },
   "outputs": [
    {
     "data": {
      "text/plain": "<Figure size 1440x720 with 1 Axes>",
      "image/png": "[encoded data removed]"
     },
     "metadata": {
      "needs_background": "light"
     },
     "output_type": "display_data"
    }
   ],
   "source": [
    "from nltk.text import Text\n",
    "\n",
    "text = Text(removed_proper_nouns)\n",
    "top_10_just_words = [it[0] for it in top_50_words[0:10]]\n",
    "\n",
    "import matplotlib.pyplot as plt\n",
    "plt.figure(figsize=(20, 10))\n",
    "\n",
    "plot = text.dispersion_plot(top_10_just_words)"
   ]
  },
  {
   "cell_type": "markdown",
   "metadata": {
    "pycharm": {
     "name": "#%% md\n"
    }
   },
   "source": [
    "# Sentiment\n",
    "\n",
    "It can be helpful to understand the sentiment of a text to gain a fuller context.\n",
    "The measure below can give a basic gauge as to what you should be experiencing while reading.\n",
    "If the text is extremely positive, and you are depressed reading it, it could imply an issue with comprehensive.\n",
    "\n",
    "The sentiment categories are as follows:\n",
    "- Positive: Words that are generally happy or optimistic. An uplifting story is likely to have a high positive bias.\n",
    "- Neutral: Words that are neither happy nor sad. A scientific text book is likely to take a neutral bias.\n",
    "- Negative: Words that are generally sad or pessimistic. A story about a tragedy is likely to have a negative bias.\n",
    "\n",
    "Sentiment measurements are not foolproof.\n",
    "For instance a text which sarcastically details the joys of office politics may display a positive sentiment,\n",
    "but in reality it is likely to be very negative.\n",
    "\n",
    "Running the code below will determine the sentiment of your chosen text.\n",
    "\n",
    "## Note\n",
    "\n",
    "This application may take some time to run, but in most cases will take less than 10 minutes, likely 30-300 seconds."
   ]
  },
  {
   "cell_type": "code",
   "execution_count": null,
   "metadata": {
    "pycharm": {
     "name": "#%%\n"
    }
   },
   "outputs": [],
   "source": [
    "from nltk.sentiment import SentimentIntensityAnalyzer\n",
    "sia = SentimentIntensityAnalyzer()\n",
    "sentiment = sia.polarity_scores(all_of_it)\n",
    "\n",
    "print(f'Positive: {sentiment[\"pos\"]}')\n",
    "print(f'Neutral: {sentiment[\"neu\"]}')\n",
    "print(f'Negative: {sentiment[\"neg\"]}')"
   ]
  },
  {
   "cell_type": "markdown",
   "metadata": {
    "pycharm": {
     "name": "#%% md\n"
    }
   },
   "source": [
    "# Tips and advice\n",
    "\n",
    "Run the application with as many texts as you want, worst you can find out is that a text is out of your league.\n",
    "It may be a good strategy to analyze texts to identify what may or may not be a good read.\n",
    "A text with too many words that are unknown is likely to take a lot of preparation,\n",
    "but a text where you know a good portion of the words is likely to be easier.\n",
    "\n",
    "Remember that the purpose of learning a language is not to memorize words, but it is rather to converse and understand.\n",
    "The point of learning the words is to comprehend the text.\n",
    "Do not attempt to learn every word, aim for 50-80% familiarity.\n",
    "\n",
    "If you find yourself needing to remind yourself of what a word means,\n",
    "or it is a word that you don't think you've ever seen,\n",
    "don't beat yourself up as this will happen even with texts in your native tongue."
   ]
  }
 ],
 "metadata": {
  "kernelspec": {
   "display_name": "Python 3 (ipykernel)",
   "language": "python",
   "name": "python3"
  },
  "language_info": {
   "codemirror_mode": {
    "name": "ipython",
    "version": 3
   },
   "file_extension": ".py",
   "mimetype": "text/x-python",
   "name": "python",
   "nbconvert_exporter": "python",
   "pygments_lexer": "ipython3",
   "version": "3.9.8"
  }
 },
 "nbformat": 4,
 "nbformat_minor": 1
}